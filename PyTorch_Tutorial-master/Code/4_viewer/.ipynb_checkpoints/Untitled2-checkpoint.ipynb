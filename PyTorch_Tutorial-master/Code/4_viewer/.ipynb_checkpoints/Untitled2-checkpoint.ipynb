{
 "cells": [
  {
   "cell_type": "code",
   "execution_count": 2,
   "id": "deaba48c",
   "metadata": {},
   "outputs": [
    {
     "name": "stdout",
     "output_type": "stream",
     "text": [
      "torch.Size([1, 6, 28, 28])\n",
      "torch.Size([1, 6, 14, 14])\n",
      "torch.Size([1, 16, 10, 10])\n",
      "torch.Size([1, 16, 5, 5])\n",
      "torch.Size([1, 120])\n",
      "torch.Size([1, 84])\n",
      "torch.Size([1, 10])\n"
     ]
    }
   ],
   "source": [
    "import torch\n",
    "import torchvision.utils as vutils\n",
    "import numpy as np\n",
    "from tensorboardX import SummaryWriter\n",
    "import torch.nn.functional as F\n",
    "import torchvision.transforms as transforms\n",
    "import sys\n",
    "sys.path.append(\"..\")\n",
    "from utils.utils import MyDataset, Net, normalize_invert\n",
    "from torch.utils.data import DataLoader\n",
    "\n",
    "\n",
    "vis_layer = 'conv1'\n",
    "log_dir = '../../Result2/visual_featuremaps'\n",
    "txt_path = '../../Data/visual.txt'\n",
    "pretrained_path = '../../Data/net_params_72p.pkl'\n",
    "\n",
    "net = Net()\n",
    "pretrained_dict = torch.load(pretrained_path)\n",
    "net.load_state_dict(pretrained_dict)\n",
    "\n",
    "# 数据预处理\n",
    "normMean = [0.49139968, 0.48215827, 0.44653124]\n",
    "normStd = [0.24703233, 0.24348505, 0.26158768]\n",
    "normTransform = transforms.Normalize(normMean, normStd)\n",
    "testTransform = transforms.Compose([\n",
    "    transforms.Resize((32, 32)),\n",
    "    transforms.ToTensor(),\n",
    "    normTransform\n",
    "])\n",
    "# 载入数据\n",
    "test_data = MyDataset(txt_path=txt_path, transform=testTransform)\n",
    "test_loader = DataLoader(dataset=test_data, batch_size=1)\n",
    "img, label = next(iter(test_loader))\n",
    "x = img\n",
    "writer = SummaryWriter(log_dir=log_dir)\n",
    "for name, layer in net._modules.items():\n",
    "\n",
    "    # 为fc层预处理x\n",
    "    x = x.view(x.size(0), -1) if \"fc\" in name else x\n",
    "\n",
    "    # 对x执行单层运算\n",
    "    x = layer(x)\n",
    "    print(x.size())\n",
    "\n",
    "    # 由于__init__()相较于forward()缺少relu操作，需要手动增加\n",
    "    x = F.relu(x) if 'conv' in name else x\n",
    "\n",
    "    # 依据选择的层，进行记录feature maps\n",
    "    if name == vis_layer:\n",
    "        # 绘制feature maps\n",
    "        x1 = x.transpose(0, 1)  # C，B, H, W  ---> B，C, H, W\n",
    "        img_grid = vutils.make_grid(x1, normalize=True, scale_each=True, nrow=2)  # B，C, H, W\n",
    "        writer.add_image(vis_layer + '_feature_maps', img_grid, global_step=666)\n",
    "\n",
    "        # 绘制原始图像\n",
    "        img_raw = normalize_invert(img, normMean, normStd)  # 图像去标准化\n",
    "        img_raw = np.array(img_raw * 255).clip(0, 255).squeeze().astype('uint8')\n",
    "        writer.add_image('raw img', img_raw, global_step=666)  # j 表示feature map数\n",
    "writer.close()"
   ]
  },
  {
   "cell_type": "code",
   "execution_count": null,
   "id": "4f179245",
   "metadata": {},
   "outputs": [],
   "source": []
  }
 ],
 "metadata": {
  "kernelspec": {
   "display_name": "Python 3 (ipykernel)",
   "language": "python",
   "name": "python3"
  },
  "language_info": {
   "codemirror_mode": {
    "name": "ipython",
    "version": 3
   },
   "file_extension": ".py",
   "mimetype": "text/x-python",
   "name": "python",
   "nbconvert_exporter": "python",
   "pygments_lexer": "ipython3",
   "version": "3.9.13"
  }
 },
 "nbformat": 4,
 "nbformat_minor": 5
}
