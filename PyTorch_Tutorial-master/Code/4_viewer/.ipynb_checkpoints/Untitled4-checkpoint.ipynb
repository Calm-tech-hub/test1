{
 "cells": [
  {
   "cell_type": "code",
   "execution_count": 1,
   "id": "95200d00",
   "metadata": {},
   "outputs": [
    {
     "name": "stdout",
     "output_type": "stream",
     "text": [
      "QQ group: 671103375, password: 2018\n"
     ]
    }
   ],
   "source": [
    "def show_confMat(confusion_mat, classes_name, set_name, out_dir):\n",
    "    \"\"\"\n",
    "    可视化混淆矩阵，保存png格式\n",
    "    :param confusion_mat: nd-array\n",
    "    :param classes_name: list,各类别名称\n",
    "    :param set_name: str, eg: 'valid', 'train'\n",
    "    :param out_dir: str, png输出的文件夹\n",
    "    :return:\n",
    "    \"\"\"\n",
    "    # 归一化\n",
    "    confusion_mat_N = confusion_mat.copy()\n",
    "    for i in range(len(classes_name)):\n",
    "        confusion_mat_N[i, :] = confusion_mat[i, :] / confusion_mat[i, :].sum()\n",
    "\n",
    "    # 获取颜色\n",
    "    cmap = plt.cm.get_cmap('Greys')  # 更多颜色: http://matplotlib.org/examples/color/colormaps_reference.html\n",
    "    plt.imshow(confusion_mat_N, cmap=cmap)\n",
    "    plt.colorbar()\n",
    "\n",
    "    # 设置文字\n",
    "    xlocations = np.array(range(len(classes_name)))\n",
    "    plt.xticks(xlocations, classes_name, rotation=60)\n",
    "    plt.yticks(xlocations, classes_name)\n",
    "    plt.xlabel('Predict label')\n",
    "    plt.ylabel('True label')\n",
    "    plt.title('Confusion_Matrix_' + set_name)\n",
    "\n",
    "    # 打印数字\n",
    "    for i in range(confusion_mat_N.shape[0]):\n",
    "        for j in range(confusion_mat_N.shape[1]):\n",
    "            plt.text(x=j, y=i, s=int(confusion_mat[i, j]), va='center', ha='center', color='red', fontsize=10)\n",
    "    # 保存\n",
    "    plt.savefig(os.path.join(out_dir, 'Confusion_Matrix_' + set_name + '.png'))\n",
    "    plt.close()\n",
    "\n",
    "if __name__ == '__main__':\n",
    "\n",
    "    print('QQ group: {}, password: {}'.format(671103375, 2018))\n",
    "\n"
   ]
  },
  {
   "cell_type": "code",
   "execution_count": null,
   "id": "4ce24038",
   "metadata": {},
   "outputs": [],
   "source": []
  }
 ],
 "metadata": {
  "kernelspec": {
   "display_name": "Python 3 (ipykernel)",
   "language": "python",
   "name": "python3"
  },
  "language_info": {
   "codemirror_mode": {
    "name": "ipython",
    "version": 3
   },
   "file_extension": ".py",
   "mimetype": "text/x-python",
   "name": "python",
   "nbconvert_exporter": "python",
   "pygments_lexer": "ipython3",
   "version": "3.9.13"
  }
 },
 "nbformat": 4,
 "nbformat_minor": 5
}
