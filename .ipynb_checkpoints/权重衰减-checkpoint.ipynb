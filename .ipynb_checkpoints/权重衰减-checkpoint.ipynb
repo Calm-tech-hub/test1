{
 "cells": [
  {
   "cell_type": "markdown",
   "id": "637ee48a",
   "metadata": {},
   "source": [
    "# 权重衰减"
   ]
  },
  {
   "cell_type": "markdown",
   "id": "090c4826",
   "metadata": {},
   "source": [
    "## 高维线性回归"
   ]
  },
  {
   "cell_type": "code",
   "execution_count": 2,
   "id": "53349fcd",
   "metadata": {},
   "outputs": [],
   "source": [
    "import torch\n",
    "from torch import nn\n",
    "from d2l import torch as d2l"
   ]
  },
  {
   "cell_type": "code",
   "execution_count": null,
   "id": "107e1d81",
   "metadata": {},
   "outputs": [],
   "source": [
    "num_train,num_test,num_inputs,"
   ]
  }
 ],
 "metadata": {
  "kernelspec": {
   "display_name": "Python 3 (ipykernel)",
   "language": "python",
   "name": "python3"
  },
  "language_info": {
   "codemirror_mode": {
    "name": "ipython",
    "version": 3
   },
   "file_extension": ".py",
   "mimetype": "text/x-python",
   "name": "python",
   "nbconvert_exporter": "python",
   "pygments_lexer": "ipython3",
   "version": "3.9.13"
  }
 },
 "nbformat": 4,
 "nbformat_minor": 5
}
